{
 "cells": [
  {
   "metadata": {
    "ExecuteTime": {
     "end_time": "2025-03-23T00:59:54.926567Z",
     "start_time": "2025-03-23T00:59:54.655514Z"
    }
   },
   "cell_type": "code",
   "source": [
    "import requests\n",
    "import json\n",
    "import pandas as pd"
   ],
   "id": "e68d5ee8ce2748b",
   "outputs": [],
   "execution_count": 1
  },
  {
   "metadata": {},
   "cell_type": "code",
   "outputs": [],
   "execution_count": null,
   "source": [
    "# link to add bot to server\n",
    "# change name to Weather Boy\n",
    "# https://discord.com/oauth2/authorize?client_id=1353175429745213501&permissions=2048&integration_type=0&scope=bot+applications.commands\n",
    "# or\n",
    "# https://discord.com/oauth2/authorize?client_id=1353175429745213501&permissions=8&integration_type=0&scope=applications.commands+bot"
   ],
   "id": "83ad31225e4292a9"
  },
  {
   "cell_type": "code",
   "id": "initial_id",
   "metadata": {
    "collapsed": true,
    "ExecuteTime": {
     "end_time": "2025-03-23T00:59:56.366193Z",
     "start_time": "2025-03-23T00:59:56.154957Z"
    }
   },
   "source": [
    "API_KEY = '398e6611313b4eb887a224951252203'\n",
    "location = 'Boston' # get from user\n",
    "date = '2025-03-30' # get from user\n",
    "\n",
    "url = f\"http://api.weatherapi.com/v1/forecast.json?key={API_KEY}&q={location}&dt={date}&aqi=no&alerts=no\"\n",
    "\n",
    "response = requests.get(url)"
   ],
   "outputs": [],
   "execution_count": 2
  },
  {
   "metadata": {
    "ExecuteTime": {
     "end_time": "2025-03-23T01:09:53.530115Z",
     "start_time": "2025-03-23T01:09:53.526204Z"
    }
   },
   "cell_type": "code",
   "source": [
    "if response.status_code == 200:\n",
    "    data = response.json()\n",
    "    forecast = data[\"forecast\"][\"forecastday\"][0]  # Since we asked for a specific date\n",
    "    condition = forecast[\"day\"][\"condition\"][\"text\"]\n",
    "    max_temp = forecast[\"day\"][\"maxtemp_f\"]\n",
    "    min_temp = forecast[\"day\"][\"mintemp_f\"]\n",
    "    wind_speed = forecast[\"day\"][\"maxwind_mph\"]\n",
    "    avg_temp = forecast[\"day\"][\"avgtemp_f\"]\n",
    "    total_precip = forecast[\"day\"][\"totalprecip_in\"]\n",
    "    humidity = forecast[\"day\"][\"avghumidity\"]\n",
    "    rain_chance = forecast[\"day\"][\"daily_chance_of_rain\"]\n",
    "    print(f\"Forecast for {date} in {location}: {condition}, High: {max_temp}°F, Low: {min_temp}°F. Average temp will be {avg_temp}°F. Humidity will be {humidity}. Rain chance will be {rain_chance}%. Total precipitation will be {total_precip} in. Wind speeds will be {wind_speed}mph\")\n",
    "else:\n",
    "    print(f\"Error: {response.status_code}, {response.text}\")"
   ],
   "id": "adf17c1ee741d20c",
   "outputs": [
    {
     "name": "stdout",
     "output_type": "stream",
     "text": [
      "Forecast for 2025-03-30 in Boston: Patchy rain nearby, High: 36.8°F, Low: 32.9°F. Average temp will be 35.2°F. Humidity will be 93. Rain chance will be 84%. Total precipitation will be 0.19 in. Wind speeds will be 10.3mph\n"
     ]
    }
   ],
   "execution_count": 11
  },
  {
   "metadata": {},
   "cell_type": "code",
   "outputs": [],
   "execution_count": null,
   "source": "import discord",
   "id": "67dd23462698acc9"
  }
 ],
 "metadata": {
  "kernelspec": {
   "display_name": "Python 3",
   "language": "python",
   "name": "python3"
  },
  "language_info": {
   "codemirror_mode": {
    "name": "ipython",
    "version": 2
   },
   "file_extension": ".py",
   "mimetype": "text/x-python",
   "name": "python",
   "nbconvert_exporter": "python",
   "pygments_lexer": "ipython2",
   "version": "2.7.6"
  }
 },
 "nbformat": 4,
 "nbformat_minor": 5
}
